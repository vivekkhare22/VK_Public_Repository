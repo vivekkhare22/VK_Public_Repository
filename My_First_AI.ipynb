{
  "nbformat": 4,
  "nbformat_minor": 0,
  "metadata": {
    "colab": {
      "provenance": [],
      "toc_visible": true,
      "authorship_tag": "ABX9TyPe/G1wQVkHWeEs86+7vcDE",
      "include_colab_link": true
    },
    "kernelspec": {
      "name": "python3",
      "display_name": "Python 3"
    },
    "language_info": {
      "name": "python"
    }
  },
  "cells": [
    {
      "cell_type": "markdown",
      "metadata": {
        "id": "view-in-github",
        "colab_type": "text"
      },
      "source": [
        "<a href=\"https://colab.research.google.com/github/vivekkhare22/VK_Public_Repository/blob/main/My_First_AI.ipynb\" target=\"_parent\"><img src=\"https://colab.research.google.com/assets/colab-badge.svg\" alt=\"Open In Colab\"/></a>"
      ]
    },
    {
      "cell_type": "code",
      "source": [
        "!pip install gspread gspread-dataframe openai\n",
        "\n",
        "import gspread\n",
        "from google.colab import auth\n",
        "auth.authenticate_user()\n",
        "# If the above line fails, you might need to re-run this cell or check your Google account permissions.\n",
        "\n",
        "from google.auth import default\n",
        "creds, _ = default()\n",
        "gc = gspread.authorize(creds)\n",
        "\n",
        "# Open your AppSheet-connected Google Sheet\n",
        "sheet = gc.open(\"Customer_Feedback_Data\").sheet1\n",
        "\n",
        "# Read into DataFrame\n",
        "import pandas as pd\n",
        "from gspread_dataframe import get_as_dataframe, set_with_dataframe\n",
        "\n",
        "df = get_as_dataframe(sheet).dropna(subset=[\"Customer\", \"Feedback\"])\n",
        "df.head()"
      ],
      "metadata": {
        "id": "H7aKrfiqzl1H"
      },
      "execution_count": null,
      "outputs": []
    },
    {
      "cell_type": "code",
      "source": [
        "import openai\n",
        "import pandas as pd # Import pandas as it's used in the cell\n",
        "from google.colab import userdata # Import userdata to access secrets\n",
        "\n",
        "# Get the API key from Colab secrets\n",
        "openai_api_key = userdata.get('OPENAI_API_KEY') # 🔐 Use Colab secrets for your API key\n",
        "\n",
        "def summarize_feedback(feedback):\n",
        "    # Updated syntax for OpenAI chat completions\n",
        "    client = openai.OpenAI(api_key=openai_api_key)\n",
        "    response = client.chat.completions.create(\n",
        "        model=\"gpt-3.5-turbo\",\n",
        "        messages=[{\"role\": \"user\", \"content\": f\"Redefine the following customer feedback in two line (professional tone):\\n\\n{feedback}\"}]\n",
        "    )\n",
        "    return response.choices[0].message.content.strip()\n",
        "\n",
        "# Apply AI summary only where it's empty\n",
        "df[\"AI_Summary\"] = df.apply(\n",
        "    lambda row: summarize_feedback(row[\"Feedback\"]) if pd.isna(row[\"AI_Summary\"]) else row[\"AI_Summary\"],\n",
        "    axis=1\n",
        ")\n",
        "\n",
        "df.head()"
      ],
      "metadata": {
        "id": "uO0VEUfJZv6R"
      },
      "execution_count": null,
      "outputs": []
    },
    {
      "cell_type": "code",
      "source": [
        "set_with_dataframe(sheet, df)\n",
        "print(\"✅ AI Summaries written back to AppSheet data successfully!\")\n"
      ],
      "metadata": {
        "id": "-SgD7E-BtMDe"
      },
      "execution_count": null,
      "outputs": []
    }
  ]
}